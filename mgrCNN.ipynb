{
 "cells": [
  {
   "cell_type": "code",
   "execution_count": 1,
   "id": "2bd3d055",
   "metadata": {},
   "outputs": [],
   "source": [
    "import json\n",
    "import random\n",
    "import math\n",
    "import numpy as np\n",
    "import matplotlib.pyplot as plt"
   ]
  },
  {
   "cell_type": "code",
   "execution_count": 2,
   "id": "ec914373",
   "metadata": {},
   "outputs": [],
   "source": [
    "import librosa\n",
    "from sklearn.model_selection import train_test_split\n",
    "import tensorflow.keras as keras"
   ]
  },
  {
   "cell_type": "markdown",
   "id": "f57f0c5a",
   "metadata": {},
   "source": [
    "1.LOAD DATA"
   ]
  },
  {
   "cell_type": "code",
   "execution_count": 3,
   "id": "1fd21276",
   "metadata": {},
   "outputs": [],
   "source": [
    "DATA_PATH = \"data_10.json\""
   ]
  },
  {
   "cell_type": "code",
   "execution_count": 4,
   "id": "cf45064d",
   "metadata": {},
   "outputs": [],
   "source": [
    "def load_data(data_path):\n",
    "    with open(data_path,\"r\") as f:\n",
    "        data = json.load(f)\n",
    "    #convert lists to numpy array\n",
    "    X = np.array(data[\"mfcc\"])\n",
    "    y = np.array(data[\"labels\"])\n",
    "    \n",
    "    print(\"Data succesfully loaded!\")\n",
    "    \n",
    "    return X,y"
   ]
  },
  {
   "cell_type": "code",
   "execution_count": 5,
   "id": "7dacf6a1",
   "metadata": {},
   "outputs": [
    {
     "name": "stdout",
     "output_type": "stream",
     "text": [
      "Data succesfully loaded!\n"
     ]
    }
   ],
   "source": [
    "X,y = load_data(DATA_PATH)"
   ]
  },
  {
   "cell_type": "code",
   "execution_count": 6,
   "id": "4707634d",
   "metadata": {},
   "outputs": [
    {
     "data": {
      "text/plain": [
       "(9986, 130, 13)"
      ]
     },
     "execution_count": 6,
     "metadata": {},
     "output_type": "execute_result"
    }
   ],
   "source": [
    "X.shape"
   ]
  },
  {
   "cell_type": "code",
   "execution_count": 7,
   "id": "35cb6018",
   "metadata": {},
   "outputs": [
    {
     "data": {
      "text/plain": [
       "(9986,)"
      ]
     },
     "execution_count": 7,
     "metadata": {},
     "output_type": "execute_result"
    }
   ],
   "source": [
    "y.shape"
   ]
  },
  {
   "cell_type": "code",
   "execution_count": 8,
   "id": "e4fd70a2",
   "metadata": {},
   "outputs": [],
   "source": [
    "def plot_history(history):\n",
    "\n",
    "    fig, axs = plt.subplots(2)\n",
    "\n",
    "    # create accuracy sublpot\n",
    "    axs[0].plot(history.history[\"accuracy\"], label=\"train accuracy\")\n",
    "    axs[0].plot(history.history[\"val_accuracy\"], label=\"test accuracy\")\n",
    "    axs[0].set_ylabel(\"Accuracy\")\n",
    "    axs[0].legend(loc=\"lower right\")\n",
    "    axs[0].set_title(\"Accuracy eval\")\n",
    "\n",
    "    # create error sublpot\n",
    "    axs[1].plot(history.history[\"loss\"], label=\"train error\")\n",
    "    axs[1].plot(history.history[\"val_loss\"], label=\"test error\")\n",
    "    axs[1].set_ylabel(\"Error\")\n",
    "    axs[1].set_xlabel(\"Epoch\")\n",
    "    axs[1].legend(loc=\"upper right\")\n",
    "    axs[1].set_title(\"Error eval\")\n",
    "    \n",
    "    plt.show()"
   ]
  },
  {
   "cell_type": "code",
   "execution_count": 9,
   "id": "01c239db",
   "metadata": {},
   "outputs": [],
   "source": [
    "# create train, validation and test split\n",
    "X_train, X_test, y_train, y_test = train_test_split(X, y, test_size=0.25)\n",
    "X_train, X_validation, y_train, y_validation = train_test_split(X_train, y_train, test_size=0.2)\n",
    "\n",
    "# add an axis to input sets\n",
    "X_train = X_train[..., np.newaxis]\n",
    "X_validation = X_validation[..., np.newaxis]\n",
    "X_test = X_test[..., np.newaxis]"
   ]
  },
  {
   "cell_type": "code",
   "execution_count": 10,
   "id": "44133258",
   "metadata": {},
   "outputs": [
    {
     "data": {
      "text/plain": [
       "(5991, 130, 13, 1)"
      ]
     },
     "execution_count": 10,
     "metadata": {},
     "output_type": "execute_result"
    }
   ],
   "source": [
    "X_train.shape"
   ]
  },
  {
   "cell_type": "code",
   "execution_count": 11,
   "id": "b7681c4f",
   "metadata": {},
   "outputs": [],
   "source": [
    "input_shape = (X_train.shape[1], X_train.shape[2], 1)"
   ]
  },
  {
   "cell_type": "code",
   "execution_count": 12,
   "id": "061f8091",
   "metadata": {},
   "outputs": [],
   "source": [
    "# build the CNN\n",
    "model_cnn = keras.Sequential()\n",
    "\n",
    "# 1st conv layer\n",
    "model_cnn.add(keras.layers.Conv2D(32, (3, 3), activation='relu', input_shape=input_shape))\n",
    "model_cnn.add(keras.layers.MaxPooling2D((3, 3), strides=(2, 2), padding='same'))\n",
    "model_cnn.add(keras.layers.BatchNormalization())\n",
    "\n",
    "# 2nd conv layer\n",
    "model_cnn.add(keras.layers.Conv2D(32, (3, 3), activation='relu'))\n",
    "model_cnn.add(keras.layers.MaxPooling2D((3, 3), strides=(2, 2), padding='same'))\n",
    "model_cnn.add(keras.layers.BatchNormalization())\n",
    "\n",
    "# 3rd conv layer\n",
    "model_cnn.add(keras.layers.Conv2D(32, (2, 2), activation='relu'))\n",
    "model_cnn.add(keras.layers.MaxPooling2D((2, 2), strides=(2, 2), padding='same'))\n",
    "model_cnn.add(keras.layers.BatchNormalization())\n",
    "\n",
    "# flatten output and feed it into dense layer\n",
    "model_cnn.add(keras.layers.Flatten())\n",
    "model_cnn.add(keras.layers.Dense(64, activation='relu'))\n",
    "model_cnn.add(keras.layers.Dropout(0.3))\n",
    "\n",
    "# output layer\n",
    "model_cnn.add(keras.layers.Dense(10, activation='softmax'))"
   ]
  },
  {
   "cell_type": "code",
   "execution_count": 13,
   "id": "085e883a",
   "metadata": {},
   "outputs": [],
   "source": [
    "# compile model\n",
    "optimiser = keras.optimizers.Adam(learning_rate=0.0001)\n",
    "model_cnn.compile(optimizer=optimiser,\n",
    "              loss='sparse_categorical_crossentropy',\n",
    "              metrics=['accuracy'])"
   ]
  },
  {
   "cell_type": "code",
   "execution_count": 14,
   "id": "ebf8fb6b",
   "metadata": {},
   "outputs": [
    {
     "name": "stdout",
     "output_type": "stream",
     "text": [
      "Model: \"sequential\"\n",
      "_________________________________________________________________\n",
      " Layer (type)                Output Shape              Param #   \n",
      "=================================================================\n",
      " conv2d (Conv2D)             (None, 128, 11, 32)       320       \n",
      "                                                                 \n",
      " max_pooling2d (MaxPooling2D  (None, 64, 6, 32)        0         \n",
      " )                                                               \n",
      "                                                                 \n",
      " batch_normalization (BatchN  (None, 64, 6, 32)        128       \n",
      " ormalization)                                                   \n",
      "                                                                 \n",
      " conv2d_1 (Conv2D)           (None, 62, 4, 32)         9248      \n",
      "                                                                 \n",
      " max_pooling2d_1 (MaxPooling  (None, 31, 2, 32)        0         \n",
      " 2D)                                                             \n",
      "                                                                 \n",
      " batch_normalization_1 (Batc  (None, 31, 2, 32)        128       \n",
      " hNormalization)                                                 \n",
      "                                                                 \n",
      " conv2d_2 (Conv2D)           (None, 30, 1, 32)         4128      \n",
      "                                                                 \n",
      " max_pooling2d_2 (MaxPooling  (None, 15, 1, 32)        0         \n",
      " 2D)                                                             \n",
      "                                                                 \n",
      " batch_normalization_2 (Batc  (None, 15, 1, 32)        128       \n",
      " hNormalization)                                                 \n",
      "                                                                 \n",
      " flatten (Flatten)           (None, 480)               0         \n",
      "                                                                 \n",
      " dense (Dense)               (None, 64)                30784     \n",
      "                                                                 \n",
      " dropout (Dropout)           (None, 64)                0         \n",
      "                                                                 \n",
      " dense_1 (Dense)             (None, 10)                650       \n",
      "                                                                 \n",
      "=================================================================\n",
      "Total params: 45,514\n",
      "Trainable params: 45,322\n",
      "Non-trainable params: 192\n",
      "_________________________________________________________________\n"
     ]
    }
   ],
   "source": [
    "model_cnn.summary()"
   ]
  },
  {
   "cell_type": "code",
   "execution_count": 15,
   "id": "132d8105",
   "metadata": {},
   "outputs": [
    {
     "name": "stdout",
     "output_type": "stream",
     "text": [
      "Epoch 1/50\n",
      "188/188 [==============================] - 8s 31ms/step - loss: 2.5269 - accuracy: 0.2100 - val_loss: 1.9298 - val_accuracy: 0.3391\n",
      "Epoch 2/50\n",
      "188/188 [==============================] - 6s 30ms/step - loss: 1.9582 - accuracy: 0.3365 - val_loss: 1.6581 - val_accuracy: 0.4112\n",
      "Epoch 3/50\n",
      "188/188 [==============================] - 6s 33ms/step - loss: 1.7376 - accuracy: 0.3953 - val_loss: 1.5231 - val_accuracy: 0.4579\n",
      "Epoch 4/50\n",
      "188/188 [==============================] - 6s 32ms/step - loss: 1.6042 - accuracy: 0.4380 - val_loss: 1.4266 - val_accuracy: 0.4840\n",
      "Epoch 5/50\n",
      "188/188 [==============================] - 6s 32ms/step - loss: 1.4806 - accuracy: 0.4680 - val_loss: 1.3582 - val_accuracy: 0.5187\n",
      "Epoch 6/50\n",
      "188/188 [==============================] - 6s 30ms/step - loss: 1.4134 - accuracy: 0.4972 - val_loss: 1.2743 - val_accuracy: 0.5494\n",
      "Epoch 7/50\n",
      "188/188 [==============================] - 6s 33ms/step - loss: 1.3494 - accuracy: 0.5129 - val_loss: 1.2342 - val_accuracy: 0.5561\n",
      "Epoch 8/50\n",
      "188/188 [==============================] - 6s 31ms/step - loss: 1.3011 - accuracy: 0.5365 - val_loss: 1.1964 - val_accuracy: 0.5734\n",
      "Epoch 9/50\n",
      "188/188 [==============================] - 6s 31ms/step - loss: 1.2478 - accuracy: 0.5565 - val_loss: 1.1501 - val_accuracy: 0.5948\n",
      "Epoch 10/50\n",
      "188/188 [==============================] - 6s 33ms/step - loss: 1.2062 - accuracy: 0.5692 - val_loss: 1.1267 - val_accuracy: 0.5941\n",
      "Epoch 11/50\n",
      "188/188 [==============================] - 6s 33ms/step - loss: 1.1580 - accuracy: 0.5814 - val_loss: 1.1157 - val_accuracy: 0.6081\n",
      "Epoch 12/50\n",
      "188/188 [==============================] - 6s 31ms/step - loss: 1.1360 - accuracy: 0.5916 - val_loss: 1.0722 - val_accuracy: 0.6208\n",
      "Epoch 13/50\n",
      "188/188 [==============================] - 6s 32ms/step - loss: 1.1034 - accuracy: 0.6091 - val_loss: 1.0638 - val_accuracy: 0.6268\n",
      "Epoch 14/50\n",
      "188/188 [==============================] - 6s 33ms/step - loss: 1.0658 - accuracy: 0.6176 - val_loss: 1.0222 - val_accuracy: 0.6389\n",
      "Epoch 15/50\n",
      "188/188 [==============================] - 6s 33ms/step - loss: 1.0462 - accuracy: 0.6206 - val_loss: 1.0030 - val_accuracy: 0.6469\n",
      "Epoch 16/50\n",
      "188/188 [==============================] - 6s 32ms/step - loss: 1.0163 - accuracy: 0.6386 - val_loss: 0.9894 - val_accuracy: 0.6482\n",
      "Epoch 17/50\n",
      "188/188 [==============================] - 6s 32ms/step - loss: 0.9809 - accuracy: 0.6475 - val_loss: 0.9780 - val_accuracy: 0.6622\n",
      "Epoch 18/50\n",
      "188/188 [==============================] - 6s 33ms/step - loss: 0.9722 - accuracy: 0.6515 - val_loss: 0.9659 - val_accuracy: 0.6629\n",
      "Epoch 19/50\n",
      "188/188 [==============================] - 6s 33ms/step - loss: 0.9385 - accuracy: 0.6643 - val_loss: 0.9401 - val_accuracy: 0.6689\n",
      "Epoch 20/50\n",
      "188/188 [==============================] - 6s 33ms/step - loss: 0.9175 - accuracy: 0.6735 - val_loss: 0.9334 - val_accuracy: 0.6682\n",
      "Epoch 21/50\n",
      "188/188 [==============================] - 6s 33ms/step - loss: 0.9162 - accuracy: 0.6794 - val_loss: 0.9119 - val_accuracy: 0.6789\n",
      "Epoch 22/50\n",
      "188/188 [==============================] - 7s 35ms/step - loss: 0.8775 - accuracy: 0.6910 - val_loss: 0.9247 - val_accuracy: 0.6749\n",
      "Epoch 23/50\n",
      "188/188 [==============================] - 7s 37ms/step - loss: 0.8643 - accuracy: 0.6905 - val_loss: 0.9008 - val_accuracy: 0.6889\n",
      "Epoch 24/50\n",
      "188/188 [==============================] - 7s 35ms/step - loss: 0.8320 - accuracy: 0.7029 - val_loss: 0.9178 - val_accuracy: 0.6749\n",
      "Epoch 25/50\n",
      "188/188 [==============================] - 7s 35ms/step - loss: 0.8233 - accuracy: 0.7054 - val_loss: 0.9079 - val_accuracy: 0.6796\n",
      "Epoch 26/50\n",
      "188/188 [==============================] - 7s 37ms/step - loss: 0.8259 - accuracy: 0.7067 - val_loss: 0.8687 - val_accuracy: 0.7056\n",
      "Epoch 27/50\n",
      "188/188 [==============================] - 6s 34ms/step - loss: 0.7952 - accuracy: 0.7211 - val_loss: 0.8699 - val_accuracy: 0.6936\n",
      "Epoch 28/50\n",
      "188/188 [==============================] - 7s 35ms/step - loss: 0.7726 - accuracy: 0.7353 - val_loss: 0.8802 - val_accuracy: 0.6896\n",
      "Epoch 29/50\n",
      "188/188 [==============================] - 7s 35ms/step - loss: 0.7630 - accuracy: 0.7268 - val_loss: 0.8777 - val_accuracy: 0.6956\n",
      "Epoch 30/50\n",
      "188/188 [==============================] - 6s 34ms/step - loss: 0.7544 - accuracy: 0.7354 - val_loss: 0.8548 - val_accuracy: 0.7023\n",
      "Epoch 31/50\n",
      "188/188 [==============================] - 6s 34ms/step - loss: 0.7229 - accuracy: 0.7426 - val_loss: 0.8318 - val_accuracy: 0.7136\n",
      "Epoch 32/50\n",
      "188/188 [==============================] - 7s 35ms/step - loss: 0.7177 - accuracy: 0.7456 - val_loss: 0.8212 - val_accuracy: 0.7176\n",
      "Epoch 33/50\n",
      "188/188 [==============================] - 6s 34ms/step - loss: 0.7154 - accuracy: 0.7466 - val_loss: 0.8333 - val_accuracy: 0.7109\n",
      "Epoch 34/50\n",
      "188/188 [==============================] - 6s 34ms/step - loss: 0.7042 - accuracy: 0.7545 - val_loss: 0.8213 - val_accuracy: 0.7143\n",
      "Epoch 35/50\n",
      "188/188 [==============================] - 6s 34ms/step - loss: 0.6936 - accuracy: 0.7581 - val_loss: 0.8282 - val_accuracy: 0.7250\n",
      "Epoch 36/50\n",
      "188/188 [==============================] - 6s 34ms/step - loss: 0.6815 - accuracy: 0.7611 - val_loss: 0.8038 - val_accuracy: 0.7163\n",
      "Epoch 37/50\n",
      "188/188 [==============================] - 6s 33ms/step - loss: 0.6621 - accuracy: 0.7692 - val_loss: 0.7933 - val_accuracy: 0.7156\n",
      "Epoch 38/50\n",
      "188/188 [==============================] - 6s 34ms/step - loss: 0.6563 - accuracy: 0.7712 - val_loss: 0.8025 - val_accuracy: 0.7156\n",
      "Epoch 39/50\n",
      "188/188 [==============================] - 6s 34ms/step - loss: 0.6487 - accuracy: 0.7707 - val_loss: 0.8128 - val_accuracy: 0.7210\n",
      "Epoch 40/50\n",
      "188/188 [==============================] - 6s 34ms/step - loss: 0.6209 - accuracy: 0.7822 - val_loss: 0.8040 - val_accuracy: 0.7069\n",
      "Epoch 41/50\n",
      "188/188 [==============================] - 7s 36ms/step - loss: 0.6182 - accuracy: 0.7798 - val_loss: 0.7597 - val_accuracy: 0.7316\n",
      "Epoch 42/50\n",
      "188/188 [==============================] - 7s 38ms/step - loss: 0.5912 - accuracy: 0.7894 - val_loss: 0.8249 - val_accuracy: 0.7263\n",
      "Epoch 43/50\n",
      "188/188 [==============================] - 7s 35ms/step - loss: 0.5919 - accuracy: 0.7895 - val_loss: 0.7921 - val_accuracy: 0.7290\n",
      "Epoch 44/50\n",
      "188/188 [==============================] - 7s 36ms/step - loss: 0.5800 - accuracy: 0.7960 - val_loss: 0.7771 - val_accuracy: 0.7190\n",
      "Epoch 45/50\n",
      "188/188 [==============================] - 7s 35ms/step - loss: 0.5759 - accuracy: 0.7962 - val_loss: 0.7867 - val_accuracy: 0.7190\n",
      "Epoch 46/50\n",
      "188/188 [==============================] - 7s 38ms/step - loss: 0.5714 - accuracy: 0.7990 - val_loss: 0.7641 - val_accuracy: 0.7296\n",
      "Epoch 47/50\n",
      "188/188 [==============================] - 7s 35ms/step - loss: 0.5607 - accuracy: 0.8005 - val_loss: 0.8171 - val_accuracy: 0.7210\n",
      "Epoch 48/50\n",
      "188/188 [==============================] - 7s 36ms/step - loss: 0.5440 - accuracy: 0.8102 - val_loss: 0.7561 - val_accuracy: 0.7310\n",
      "Epoch 49/50\n",
      "188/188 [==============================] - 7s 36ms/step - loss: 0.5395 - accuracy: 0.8100 - val_loss: 0.7822 - val_accuracy: 0.7263\n",
      "Epoch 50/50\n",
      "188/188 [==============================] - 7s 39ms/step - loss: 0.5303 - accuracy: 0.8186 - val_loss: 0.7772 - val_accuracy: 0.7210\n"
     ]
    }
   ],
   "source": [
    "# train model\n",
    "history = model_cnn.fit(X_train, y_train, validation_data=(X_validation, y_validation), batch_size=32, epochs=50)"
   ]
  },
  {
   "cell_type": "code",
   "execution_count": 16,
   "id": "43c6aa29",
   "metadata": {},
   "outputs": [
    {
     "data": {
      "image/png": "[encoded data removed]",
      "text/plain": [
       "<Figure size 640x480 with 2 Axes>"
      ]
     },
     "metadata": {},
     "output_type": "display_data"
    }
   ],
   "source": [
    "# plot accuracy and error as a function of the epochs\n",
    "plot_history(history)"
   ]
  },
  {
   "cell_type": "code",
   "execution_count": 17,
   "id": "e49e36ab",
   "metadata": {},
   "outputs": [],
   "source": [
    "model_cnn.save(\"MGR_model.h5\")"
   ]
  },
  {
   "cell_type": "markdown",
   "id": "91ec39ce",
   "metadata": {},
   "source": [
    "PREDICTION TEST SET"
   ]
  },
  {
   "cell_type": "code",
   "execution_count": 18,
   "id": "26cc2961",
   "metadata": {},
   "outputs": [],
   "source": [
    "# pick a sample to predict from the test set\n",
    "X_to_predict = X_test[100]\n",
    "y_to_predict = y_test[100]"
   ]
  },
  {
   "cell_type": "code",
   "execution_count": 19,
   "id": "dc917bf3",
   "metadata": {},
   "outputs": [
    {
     "data": {
      "text/plain": [
       "(130, 13, 1)"
      ]
     },
     "execution_count": 19,
     "metadata": {},
     "output_type": "execute_result"
    }
   ],
   "source": [
    "X_to_predict.shape"
   ]
  },
  {
   "cell_type": "code",
   "execution_count": 20,
   "id": "eade34f2",
   "metadata": {},
   "outputs": [
    {
     "name": "stdout",
     "output_type": "stream",
     "text": [
      "Real Genre: 0\n"
     ]
    }
   ],
   "source": [
    "print(\"Real Genre:\", y_to_predict)"
   ]
  },
  {
   "cell_type": "code",
   "execution_count": 21,
   "id": "f50820f3",
   "metadata": {},
   "outputs": [],
   "source": [
    "# add a dimension to input data for sample - model.predict() expects a 4d array in this case\n",
    "X_to_predict = X_to_predict[np.newaxis, ...] # array shape (1, 130, 13, 1)"
   ]
  },
  {
   "cell_type": "code",
   "execution_count": 22,
   "id": "901e73b5",
   "metadata": {},
   "outputs": [
    {
     "data": {
      "text/plain": [
       "(1, 130, 13, 1)"
      ]
     },
     "execution_count": 22,
     "metadata": {},
     "output_type": "execute_result"
    }
   ],
   "source": [
    "X_to_predict.shape"
   ]
  },
  {
   "cell_type": "code",
   "execution_count": 23,
   "id": "484f88e6",
   "metadata": {},
   "outputs": [
    {
     "name": "stdout",
     "output_type": "stream",
     "text": [
      "1/1 [==============================] - 0s 111ms/step\n"
     ]
    }
   ],
   "source": [
    "# perform prediction\n",
    "prediction = model_cnn.predict(X_to_predict)"
   ]
  },
  {
   "cell_type": "code",
   "execution_count": 24,
   "id": "0535940d",
   "metadata": {},
   "outputs": [
    {
     "name": "stdout",
     "output_type": "stream",
     "text": [
      "Predicted Genre: 5\n"
     ]
    }
   ],
   "source": [
    "# get index with max value\n",
    "predicted_index = np.argmax(prediction, axis=1)\n",
    "\n",
    "print(\"Predicted Genre:\", int(predicted_index))"
   ]
  },
  {
   "cell_type": "code",
   "execution_count": 25,
   "id": "3505b7d1",
   "metadata": {},
   "outputs": [
    {
     "name": "stdout",
     "output_type": "stream",
     "text": [
      "Real Genre: 6\n",
      "1/1 [==============================] - 0s 22ms/step\n",
      "Predicted Genre: 6\n"
     ]
    }
   ],
   "source": [
    "# pick a sample to predict from the test set\n",
    "X_to_predict = X_test[50]\n",
    "y_to_predict = y_test[50]\n",
    "\n",
    "print(\"Real Genre:\", y_to_predict)\n",
    "\n",
    "X_to_predict = X_to_predict[np.newaxis, ...]\n",
    "\n",
    "prediction = model_cnn.predict(X_to_predict)\n",
    "\n",
    "# get index with max value\n",
    "predicted_index = np.argmax(prediction, axis=1)\n",
    "\n",
    "print(\"Predicted Genre:\", int(predicted_index))"
   ]
  },
  {
   "cell_type": "code",
   "execution_count": 26,
   "id": "f938c4b4",
   "metadata": {},
   "outputs": [
    {
     "data": {
      "text/plain": [
       "2497"
      ]
     },
     "execution_count": 26,
     "metadata": {},
     "output_type": "execute_result"
    }
   ],
   "source": [
    "len(X_test)"
   ]
  },
  {
   "cell_type": "code",
   "execution_count": 27,
   "id": "d6d70dea",
   "metadata": {},
   "outputs": [
    {
     "name": "stdout",
     "output_type": "stream",
     "text": [
      "\n",
      "Real Genre: 6\n",
      "1/1 [==============================] - 0s 22ms/step\n",
      "Predicted Genre: 6\n",
      "\n",
      "Real Genre: 1\n",
      "1/1 [==============================] - 0s 21ms/step\n",
      "Predicted Genre: 1\n",
      "\n",
      "Real Genre: 6\n",
      "1/1 [==============================] - 0s 30ms/step\n",
      "Predicted Genre: 6\n",
      "\n",
      "Real Genre: 4\n",
      "1/1 [==============================] - 0s 22ms/step\n",
      "Predicted Genre: 4\n",
      "\n",
      "Real Genre: 9\n",
      "1/1 [==============================] - 0s 23ms/step\n",
      "Predicted Genre: 2\n",
      "\n",
      "Real Genre: 0\n",
      "1/1 [==============================] - 0s 30ms/step\n",
      "Predicted Genre: 9\n",
      "\n",
      "Real Genre: 8\n",
      "1/1 [==============================] - 0s 18ms/step\n",
      "Predicted Genre: 8\n",
      "\n",
      "Real Genre: 4\n",
      "1/1 [==============================] - 0s 23ms/step\n",
      "Predicted Genre: 4\n",
      "\n",
      "Real Genre: 9\n",
      "1/1 [==============================] - 0s 20ms/step\n",
      "Predicted Genre: 9\n",
      "\n",
      "Real Genre: 5\n",
      "1/1 [==============================] - 0s 20ms/step\n",
      "Predicted Genre: 5\n"
     ]
    }
   ],
   "source": [
    "for n in range(10):\n",
    "\n",
    "  i = random.randint(0,len(X_test))\n",
    "  # pick a sample to predict from the test set\n",
    "  X_to_predict = X_test[i]\n",
    "  y_to_predict = y_test[i]\n",
    "\n",
    "  print(\"\\nReal Genre:\", y_to_predict)\n",
    "\n",
    "  X_to_predict = X_to_predict[np.newaxis, ...]\n",
    "\n",
    "  prediction = model_cnn.predict(X_to_predict)\n",
    "\n",
    "  # get index with max value\n",
    "  predicted_index = np.argmax(prediction, axis=1)\n",
    "\n",
    "  print(\"Predicted Genre:\", int(predicted_index))"
   ]
  },
  {
   "cell_type": "code",
   "execution_count": 28,
   "id": "f6305816",
   "metadata": {},
   "outputs": [],
   "source": [
    "# Audio files pre-processing\n",
    "def process_input(audio_file, track_duration):\n",
    "\n",
    "  SAMPLE_RATE = 22050\n",
    "  NUM_MFCC = 13\n",
    "  N_FTT=2048\n",
    "  HOP_LENGTH=512\n",
    "  TRACK_DURATION = track_duration # measured in seconds\n",
    "  SAMPLES_PER_TRACK = SAMPLE_RATE * TRACK_DURATION\n",
    "  NUM_SEGMENTS = 10\n",
    "\n",
    "  samples_per_segment = int(SAMPLES_PER_TRACK / NUM_SEGMENTS)\n",
    "  num_mfcc_vectors_per_segment = math.ceil(samples_per_segment / HOP_LENGTH)\n",
    "\n",
    "  signal, sample_rate = librosa.load(audio_file, sr=SAMPLE_RATE)\n",
    "  \n",
    "  for d in range(10):\n",
    "\n",
    "    # calculate start and finish sample for current segment\n",
    "    start = samples_per_segment * d\n",
    "    finish = start + samples_per_segment\n",
    "\n",
    "    # extract mfcc\n",
    "    mfcc = librosa.feature.mfcc(y=signal[start:finish], sr=sample_rate, n_mfcc=NUM_MFCC, n_fft=N_FTT, hop_length=HOP_LENGTH)\n",
    "    mfcc = mfcc.T\n",
    "\n",
    "    return mfcc"
   ]
  },
  {
   "cell_type": "code",
   "execution_count": 29,
   "id": "97d9155a",
   "metadata": {},
   "outputs": [],
   "source": [
    "genre_dict = {0:\"hiphop\",1:\"country\",2:\"jazz\",3:\"classical\",4:\"metal\",5:\"pop\",6:\"rock\",7:\"blues\",8:\"reggae\",9:\"disco\"}"
   ]
  },
  {
   "cell_type": "code",
   "execution_count": 53,
   "id": "1de5dc33",
   "metadata": {},
   "outputs": [],
   "source": [
    "new_input_mfcc = process_input(\"kendrick.mp3\", 30)"
   ]
  },
  {
   "cell_type": "code",
   "execution_count": 54,
   "id": "f7d6e573",
   "metadata": {},
   "outputs": [
    {
     "data": {
      "text/plain": [
       "(1, 130, 13, 1)"
      ]
     },
     "execution_count": 54,
     "metadata": {},
     "output_type": "execute_result"
    }
   ],
   "source": [
    "X_to_predict = new_input_mfcc[np.newaxis, ...,np.newaxis]\n",
    "X_to_predict.shape"
   ]
  },
  {
   "cell_type": "code",
   "execution_count": 55,
   "id": "ec73fca8",
   "metadata": {},
   "outputs": [
    {
     "name": "stdout",
     "output_type": "stream",
     "text": [
      "1/1 [==============================] - 0s 36ms/step\n",
      "Predicted Genre: metal\n"
     ]
    }
   ],
   "source": [
    "prediction = model_cnn.predict(X_to_predict)\n",
    "\n",
    "# get index with max value\n",
    "predicted_index = np.argmax(prediction, axis=1)\n",
    "\n",
    "print(\"Predicted Genre:\", genre_dict[int(predicted_index)])"
   ]
  },
  {
   "cell_type": "code",
   "execution_count": null,
   "id": "0d7ed891",
   "metadata": {},
   "outputs": [],
   "source": []
  }
 ],
 "metadata": {
  "kernelspec": {
   "display_name": "Python 3 (ipykernel)",
   "language": "python",
   "name": "python3"
  },
  "language_info": {
   "codemirror_mode": {
    "name": "ipython",
    "version": 3
   },
   "file_extension": ".py",
   "mimetype": "text/x-python",
   "name": "python",
   "nbconvert_exporter": "python",
   "pygments_lexer": "ipython3",
   "version": "3.9.13"
  }
 },
 "nbformat": 4,
 "nbformat_minor": 5
}
