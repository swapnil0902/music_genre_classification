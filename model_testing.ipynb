{
 "cells": [
  {
   "cell_type": "code",
   "execution_count": 4,
   "id": "85937bf2",
   "metadata": {},
   "outputs": [],
   "source": [
    "import json\n",
    "import numpy as np\n",
    "from sklearn.model_selection import train_test_split\n",
    "import tensorflow.keras as keras\n",
    "\n",
    "import matplotlib.pyplot as plt\n",
    "import random\n",
    "\n",
    "import librosa\n",
    "import math"
   ]
  },
  {
   "cell_type": "code",
   "execution_count": 5,
   "id": "0d5d2206",
   "metadata": {},
   "outputs": [],
   "source": [
    "# path to json\n",
    "DATA_PATH = \"final_dat.json\""
   ]
  },
  {
   "cell_type": "code",
   "execution_count": 6,
   "id": "9fb42754",
   "metadata": {},
   "outputs": [],
   "source": [
    "def load_data(data_path):\n",
    "\n",
    "    with open(data_path, \"r\") as f:\n",
    "        data = json.load(f)\n",
    "\n",
    "    # convert lists to numpy arrays\n",
    "    X = np.array(data[\"mfcc\"])\n",
    "    y = np.array(data[\"labels\"])\n",
    "\n",
    "    print(\"Data succesfully loaded!\")\n",
    "\n",
    "    return  X, y"
   ]
  },
  {
   "cell_type": "code",
   "execution_count": 7,
   "id": "808668af",
   "metadata": {},
   "outputs": [
    {
     "name": "stdout",
     "output_type": "stream",
     "text": [
      "Data succesfully loaded!\n"
     ]
    }
   ],
   "source": [
    "# load data\n",
    "X, y = load_data(DATA_PATH)"
   ]
  },
  {
   "cell_type": "code",
   "execution_count": 10,
   "id": "0b7bdbba",
   "metadata": {},
   "outputs": [
    {
     "data": {
      "text/plain": [
       "(9986, 130, 13)"
      ]
     },
     "execution_count": 10,
     "metadata": {},
     "output_type": "execute_result"
    }
   ],
   "source": [
    "X.shape"
   ]
  },
  {
   "cell_type": "code",
   "execution_count": 11,
   "id": "3565b9da",
   "metadata": {},
   "outputs": [],
   "source": [
    "X_train, X_test, y_train, y_test = train_test_split(X, y, test_size=0.3)"
   ]
  },
  {
   "cell_type": "code",
   "execution_count": 12,
   "id": "2511ad56",
   "metadata": {},
   "outputs": [],
   "source": [
    "# create train, validation and test split\n",
    "X_train, X_test, y_train, y_test = train_test_split(X, y, test_size=0.25)\n",
    "X_train, X_validation, y_train, y_validation = train_test_split(X_train, y_train, test_size=0.2)\n",
    "\n",
    "# add an axis to input sets\n",
    "X_train = X_train[..., np.newaxis]\n",
    "X_validation = X_validation[..., np.newaxis]\n",
    "X_test = X_test[..., np.newaxis]"
   ]
  },
  {
   "cell_type": "code",
   "execution_count": 14,
   "id": "65a35923",
   "metadata": {},
   "outputs": [],
   "source": [
    "modelV2 = keras.models.load_model(\"mgr_model.h5\")"
   ]
  },
  {
   "cell_type": "code",
   "execution_count": 16,
   "id": "6447c0b5",
   "metadata": {},
   "outputs": [],
   "source": [
    "X_to_predict = X_test[100]\n",
    "y_to_predict = y_test[100]"
   ]
  },
  {
   "cell_type": "code",
   "execution_count": 23,
   "id": "214a5a27",
   "metadata": {},
   "outputs": [
    {
     "name": "stdout",
     "output_type": "stream",
     "text": [
      "\n",
      "Real Genre: 3\n",
      "1/1 [==============================] - 0s 47ms/step\n",
      "Predicted Genre: 9\n",
      "\n",
      "Real Genre: 2\n",
      "1/1 [==============================] - 0s 49ms/step\n",
      "Predicted Genre: 0\n",
      "\n",
      "Real Genre: 3\n",
      "1/1 [==============================] - 0s 45ms/step\n",
      "Predicted Genre: 3\n",
      "\n",
      "Real Genre: 2\n",
      "1/1 [==============================] - 0s 49ms/step\n",
      "Predicted Genre: 2\n",
      "\n",
      "Real Genre: 9\n",
      "1/1 [==============================] - 0s 57ms/step\n",
      "Predicted Genre: 1\n",
      "\n",
      "Real Genre: 6\n",
      "1/1 [==============================] - 0s 57ms/step\n",
      "Predicted Genre: 6\n",
      "\n",
      "Real Genre: 3\n",
      "1/1 [==============================] - 0s 59ms/step\n",
      "Predicted Genre: 3\n",
      "\n",
      "Real Genre: 2\n",
      "1/1 [==============================] - 0s 37ms/step\n",
      "Predicted Genre: 2\n",
      "\n",
      "Real Genre: 0\n",
      "1/1 [==============================] - 0s 52ms/step\n",
      "Predicted Genre: 3\n",
      "\n",
      "Real Genre: 1\n",
      "1/1 [==============================] - 0s 60ms/step\n",
      "Predicted Genre: 1\n"
     ]
    }
   ],
   "source": [
    "for n in range(10):\n",
    "\n",
    "  i = random.randint(0,len(X_test))\n",
    "  # pick a sample to predict from the test set\n",
    "  X_to_predict = X_test[i]\n",
    "  y_to_predict = y_test[i]\n",
    "\n",
    "  print(\"\\nReal Genre:\", y_to_predict)\n",
    "\n",
    "  X_to_predict = X_to_predict[np.newaxis, ...]\n",
    "\n",
    "  prediction = modelV2.predict(X_to_predict)\n",
    "\n",
    "  # get index with max value\n",
    "  predicted_index = np.argmax(prediction, axis=1)\n",
    "\n",
    "  print(\"Predicted Genre:\", int(predicted_index))"
   ]
  },
  {
   "cell_type": "code",
   "execution_count": 27,
   "id": "8ab20902",
   "metadata": {},
   "outputs": [],
   "source": [
    "# Audio files pre-processing\n",
    "def process_input(audio_file, track_duration):\n",
    "\n",
    "  SAMPLE_RATE = 22050\n",
    "  NUM_MFCC = 13\n",
    "  N_FTT=2048\n",
    "  HOP_LENGTH=512\n",
    "  TRACK_DURATION = track_duration # measured in seconds\n",
    "  SAMPLES_PER_TRACK = SAMPLE_RATE * TRACK_DURATION\n",
    "  NUM_SEGMENTS = 10\n",
    "\n",
    "  samples_per_segment = int(SAMPLES_PER_TRACK / NUM_SEGMENTS)\n",
    "  num_mfcc_vectors_per_segment = math.ceil(samples_per_segment / HOP_LENGTH)\n",
    "\n",
    "  signal, sample_rate = librosa.load(audio_file, sr=SAMPLE_RATE)\n",
    "  \n",
    "  for d in range(10):\n",
    "\n",
    "    # calculate start and finish sample for current segment\n",
    "    start = samples_per_segment * d\n",
    "    finish = start + samples_per_segment\n",
    "\n",
    "    # extract mfcc\n",
    "    mfcc = librosa.feature.mfcc(y=signal[start:finish], sr=sample_rate, n_mfcc=NUM_MFCC, n_fft=N_FTT, hop_length=HOP_LENGTH)\n",
    "    mfcc = mfcc.T\n",
    "\n",
    "    return mfcc\n"
   ]
  },
  {
   "cell_type": "code",
   "execution_count": 49,
   "id": "580cb5a7",
   "metadata": {},
   "outputs": [],
   "source": [
    "genre_dict = {0:\"disco\",1:\"country\",2:\"jazz\",3:\"classical\",4:\"metal\",5:\"pop\",6:\"rock\",7:\"blues\",8:\"reggae\",9:\"hiphop\"}    "
   ]
  },
  {
   "cell_type": "code",
   "execution_count": 63,
   "id": "0166c7a7",
   "metadata": {},
   "outputs": [],
   "source": [
    "new_input_mfcc = process_input(\"gunsR.mp3\", 30)"
   ]
  },
  {
   "cell_type": "code",
   "execution_count": 64,
   "id": "95bd6506",
   "metadata": {},
   "outputs": [
    {
     "data": {
      "text/plain": [
       "(1, 130, 13, 1)"
      ]
     },
     "execution_count": 64,
     "metadata": {},
     "output_type": "execute_result"
    }
   ],
   "source": [
    "X_to_predict = new_input_mfcc[np.newaxis, ..., np.newaxis]\n",
    "X_to_predict.shape"
   ]
  },
  {
   "cell_type": "code",
   "execution_count": 65,
   "id": "4942c99e",
   "metadata": {},
   "outputs": [
    {
     "name": "stdout",
     "output_type": "stream",
     "text": [
      "1/1 [==============================] - 0s 55ms/step\n",
      "Predicted Genre: rock\n"
     ]
    }
   ],
   "source": [
    "prediction = modelV2.predict(X_to_predict)\n",
    "\n",
    "# get index with max value\n",
    "predicted_index = np.argmax(prediction, axis=1)\n",
    "\n",
    "print(\"Predicted Genre:\", genre_dict[int(predicted_index)])"
   ]
  },
  {
   "cell_type": "code",
   "execution_count": null,
   "id": "f70291ab",
   "metadata": {},
   "outputs": [],
   "source": []
  }
 ],
 "metadata": {
  "kernelspec": {
   "display_name": "Python 3 (ipykernel)",
   "language": "python",
   "name": "python3"
  },
  "language_info": {
   "codemirror_mode": {
    "name": "ipython",
    "version": 3
   },
   "file_extension": ".py",
   "mimetype": "text/x-python",
   "name": "python",
   "nbconvert_exporter": "python",
   "pygments_lexer": "ipython3",
   "version": "3.9.13"
  }
 },
 "nbformat": 4,
 "nbformat_minor": 5
}
